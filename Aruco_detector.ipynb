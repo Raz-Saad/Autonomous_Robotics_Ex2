{
 "cells": [
  {
   "cell_type": "code",
   "execution_count": 112,
   "id": "be9a4768",
   "metadata": {},
   "outputs": [
    {
     "name": "stdout",
     "output_type": "stream",
     "text": [
      "Requirement already satisfied: opencv-contrib-python in c:\\users\\rator\\appdata\\roaming\\python\\python311\\site-packages (4.10.0.82)\n",
      "Requirement already satisfied: numpy>=1.21.2 in c:\\users\\rator\\anaconda3\\lib\\site-packages (from opencv-contrib-python) (1.24.3)\n",
      "Note: you may need to restart the kernel to use updated packages.\n"
     ]
    }
   ],
   "source": [
    "pip install --user opencv-contrib-python\n"
   ]
  },
  {
   "cell_type": "code",
   "execution_count": 113,
   "id": "82314945",
   "metadata": {},
   "outputs": [
    {
     "name": "stdout",
     "output_type": "stream",
     "text": [
      "Requirement already satisfied: opencv-python in c:\\users\\rator\\anaconda3\\lib\\site-packages (4.10.0.82)\n",
      "Requirement already satisfied: opencv-contrib-python in c:\\users\\rator\\appdata\\roaming\\python\\python311\\site-packages (4.10.0.82)\n",
      "Requirement already satisfied: numpy>=1.21.2 in c:\\users\\rator\\anaconda3\\lib\\site-packages (from opencv-python) (1.24.3)\n",
      "Note: you may need to restart the kernel to use updated packages.\n"
     ]
    }
   ],
   "source": [
    "pip install opencv-python opencv-contrib-python\n"
   ]
  },
  {
   "cell_type": "code",
   "execution_count": 114,
   "id": "841318aa",
   "metadata": {},
   "outputs": [],
   "source": [
    "import cv2\n",
    "import numpy as np\n",
    "import csv\n",
    "\n",
    "# Function to convert a rotation matrix to Euler angles\n",
    "def rotationMatrixToEulerAngles(R):\n",
    "    # Calculate the sy value\n",
    "    sy = np.sqrt(R[0, 0] * R[0, 0] + R[1, 0] * R[1, 0])\n",
    "    # Check for singularity\n",
    "    singular = sy < 1e-6\n",
    "\n",
    "    if not singular:\n",
    "        # Calculate the angles\n",
    "        x = np.arctan2(R[2, 1], R[2, 2])\n",
    "        y = np.arctan2(-R[2, 0], sy)\n",
    "        z = np.arctan2(R[1, 0], R[0, 0])\n",
    "    else:\n",
    "        # Handle the singularity case\n",
    "        x = np.arctan2(-R[1, 2], R[1, 1])\n",
    "        y = np.arctan2(-R[2, 0], sy)\n",
    "        z = 0\n",
    "\n",
    "    # Convert the angles from radians to degrees\n",
    "    return np.degrees(x), np.degrees(y), np.degrees(z)"
   ]
  },
  {
   "cell_type": "code",
   "execution_count": 115,
   "id": "3fd5665f",
   "metadata": {},
   "outputs": [],
   "source": [
    "\n",
    "# Load the ArUco dictionary that contains the markers we will detect\n",
    "aruco_dict = cv2.aruco.getPredefinedDictionary(cv2.aruco.DICT_4X4_100)\n",
    "# Create detector parameters\n",
    "parameters = cv2.aruco.DetectorParameters()"
   ]
  },
  {
   "cell_type": "code",
   "execution_count": 116,
   "id": "ec850ed4",
   "metadata": {},
   "outputs": [],
   "source": [
    "#camera calibaration by boaz:\n",
    "camera_matrix = np.array([[921.170702, 0.000000, 459.904354], [0.000000, 919.018377, 351.238301], [0.000000, 0.000000, 1.000000]])\n",
    "distortion = np.array([-0.033458, 0.105152, 0.001256, -0.006647, 0.000000])"
   ]
  },
  {
   "cell_type": "code",
   "execution_count": 117,
   "id": "9c49e222",
   "metadata": {},
   "outputs": [],
   "source": [
    "\n",
    "# Define the size of the ArUco marker in meters\n",
    "marker_length = 0.14  # aruco marker size\n",
    "\n",
    "# Initialize video capture from the provided video file\n",
    "cap = cv2.VideoCapture('challengeB.mp4')\n",
    "\n",
    "# Open a CSV file to write the results\n",
    "csv_file = open('output.csv', 'w', newline='')\n",
    "csv_writer = csv.writer(csv_file)\n",
    "# Write the header row\n",
    "csv_writer.writerow(['Frame ID', 'QR id', 'QR 2D', 'QR 3D'])\n",
    "\n",
    "frame_id = 0\n",
    "\n",
    "# Initialize the video writer for the annotated output video\n",
    "fourcc = cv2.VideoWriter_fourcc(*'XVID')\n",
    "\n",
    "'''\n",
    "Params of VideoWriter:\n",
    "video output name , codec , frame rate - FPS , width of the frames , height of the frames\n",
    "'''\n",
    "out = cv2.VideoWriter('output.avi', fourcc, 20.0, (int(cap.get(3)), int(cap.get(4))))"
   ]
  },
  {
   "cell_type": "code",
   "execution_count": 118,
   "id": "8a78ba82",
   "metadata": {},
   "outputs": [
    {
     "name": "stdout",
     "output_type": "stream",
     "text": [
      "average time it took to process a single frame: 13.39\n"
     ]
    }
   ],
   "source": [
    "import time\n",
    "\n",
    "frames_process_time_sum = 0\n",
    "\n",
    "# Process the video frame by frame\n",
    "while cap.isOpened():\n",
    "    \n",
    "    # Start time for measuring frame processing time\n",
    "    start_time = time.time()\n",
    "    \n",
    "    ret, frame = cap.read()\n",
    "    if not ret:\n",
    "        break\n",
    "    \n",
    "    # Detect ArUco markers in the frame\n",
    "    corners, ids, rejected = cv2.aruco.detectMarkers(frame, aruco_dict, parameters=parameters)\n",
    "    \n",
    "    if ids is not None:\n",
    "        # Estimate the pose of each detected marker\n",
    "        rvecs, tvecs, _ = cv2.aruco.estimatePoseSingleMarkers(corners, marker_length, camera_matrix, dist_coeffs)\n",
    "        \n",
    "        detected_ids = []\n",
    "\n",
    "        for i in range(len(ids)):\n",
    "            # Get the rotation and translation vectors for each marker\n",
    "            rvec, tvec = rvecs[i][0], tvecs[i][0]\n",
    "            id = ids[i][0]\n",
    "            detected_ids.append(id)\n",
    "            # Get the 2D corner points of the marker\n",
    "            corner = corners[i].reshape(4, 2).tolist()\n",
    "            \n",
    "            # Draw the detected markers on the frame\n",
    "            cv2.aruco.drawDetectedMarkers(frame, corners)\n",
    "            # Draw the axes of the detected marker\n",
    "            cv2.drawFrameAxes(frame, camera_matrix, dist_coeffs, rvec, tvec, marker_length * 0.5)\n",
    "            \n",
    "            # Convert the rotation vector to a rotation matrix\n",
    "            R, _ = cv2.Rodrigues(rvec)\n",
    "            # Calculate the yaw, pitch, and roll angles\n",
    "            yaw, pitch, roll = rotationMatrixToEulerAngles(R)\n",
    "            \n",
    "            '''\n",
    "            Distance: the distance from the camera to the ArUco marker, measured in meters. This is the Euclidean norm of the translation vector tvec.\n",
    "\n",
    "            Yaw: the yaw angle of the ArUco marker, measured in degrees. Yaw represents the rotation around the vertical axis (often the Z-axis in the camera's coordinate system).\n",
    "\n",
    "            Pitch: the pitch angle of the ArUco marker, measured in degrees. Pitch represents the rotation around the lateral axis (often the X-axis in the camera's coordinate system).\n",
    "\n",
    "            Roll: the roll angle of the ArUco marker, measured in degrees. Roll represents the rotation around the longitudinal axis (often the Y-axis in the camera's coordinate system).\n",
    "            '''\n",
    "            \n",
    "            # Write the data to the CSV file\n",
    "            csv_writer.writerow([frame_id, id, corner, [np.linalg.norm(tvec), yaw, pitch, roll]])\n",
    "        \n",
    "        # Draw the IDs of the detected markers in the center of the screen\n",
    "        ids_text = \"Detected IDs: \" + \", \".join(map(str, detected_ids))\n",
    "        screen_center_x = frame.shape[1] // 2\n",
    "        screen_center_y = frame.shape[0] // 2\n",
    "        text_pos = (screen_center_x - 100, screen_center_y)  # Adjust as necessary for better positioning\n",
    "        cv2.putText(frame, ids_text, text_pos, cv2.FONT_HERSHEY_SIMPLEX, 1.2, (0, 255, 0), 2, cv2.LINE_AA)\n",
    "    \n",
    "    # Write the annotated frame to the output video\n",
    "    out.write(frame)\n",
    "    \n",
    "    \n",
    "    # End time for measuring frame processing time\n",
    "    end_time = time.time()\n",
    "    elapsed_time_ms = (end_time - start_time) * 1000.0\n",
    "    #print(f\"Frame {frame_id}: {elapsed_time_ms:.2f} ms\")\n",
    "\n",
    "    \n",
    "    #summing up the time of processing all frames for calculating an average:\n",
    "    frames_process_time_sum += elapsed_time_ms\n",
    "    \n",
    "\n",
    "    # Check if processing time exceeds 30ms\n",
    "    #if elapsed_time_ms > 30.0:\n",
    "        #print(f\"WARNING: Frame {frame_id} took {elapsed_time_ms:.2f} ms to process, which exceeds 30 ms.\")\n",
    "    \n",
    "    \n",
    "    frame_id += 1\n",
    "\n",
    "    \n",
    "    # Check for user input to quit the loop\n",
    "    if cv2.waitKey(1) & 0xFF == ord('q'):\n",
    "        break\n",
    "\n",
    "        \n",
    "average_time_to_process_a_frame = float(frames_process_time_sum) / float(frame_id)\n",
    "print(f\"average time it took to process a single frame: {average_time_to_process_a_frame:.2f}\")        \n",
    "\n",
    "# Release the video capture and writer objects\n",
    "cap.release()\n",
    "out.release()\n",
    "cv2.destroyAllWindows()\n",
    "# Close the CSV file\n",
    "csv_file.close()\n",
    "#print(\"done\")\n"
   ]
  },
  {
   "cell_type": "code",
   "execution_count": 119,
   "id": "82b05928",
   "metadata": {},
   "outputs": [],
   "source": [
    "# wait for printing of the average time it took to process a single frame"
   ]
  },
  {
   "cell_type": "code",
   "execution_count": null,
   "id": "1c925417",
   "metadata": {},
   "outputs": [],
   "source": []
  }
 ],
 "metadata": {
  "kernelspec": {
   "display_name": "Python 3 (ipykernel)",
   "language": "python",
   "name": "python3"
  },
  "language_info": {
   "codemirror_mode": {
    "name": "ipython",
    "version": 3
   },
   "file_extension": ".py",
   "mimetype": "text/x-python",
   "name": "python",
   "nbconvert_exporter": "python",
   "pygments_lexer": "ipython3",
   "version": "3.11.5"
  }
 },
 "nbformat": 4,
 "nbformat_minor": 5
}
