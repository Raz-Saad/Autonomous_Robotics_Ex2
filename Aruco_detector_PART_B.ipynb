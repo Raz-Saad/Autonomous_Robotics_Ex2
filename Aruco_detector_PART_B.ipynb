{
 "cells": [
  {
   "cell_type": "code",
   "execution_count": 1,
   "id": "be9a4768",
   "metadata": {},
   "outputs": [
    {
     "name": "stdout",
     "output_type": "stream",
     "text": [
      "Requirement already satisfied: opencv-contrib-python in c:\\users\\rator\\appdata\\roaming\\python\\python311\\site-packages (4.10.0.82)\n",
      "Requirement already satisfied: numpy>=1.21.2 in c:\\users\\rator\\anaconda3\\lib\\site-packages (from opencv-contrib-python) (1.24.3)\n",
      "Note: you may need to restart the kernel to use updated packages.\n"
     ]
    }
   ],
   "source": [
    "pip install --user opencv-contrib-python\n"
   ]
  },
  {
   "cell_type": "code",
   "execution_count": 2,
   "id": "82314945",
   "metadata": {},
   "outputs": [
    {
     "name": "stdout",
     "output_type": "stream",
     "text": [
      "Requirement already satisfied: opencv-python in c:\\users\\rator\\anaconda3\\lib\\site-packages (4.10.0.82)\n",
      "Requirement already satisfied: opencv-contrib-python in c:\\users\\rator\\appdata\\roaming\\python\\python311\\site-packages (4.10.0.82)\n",
      "Requirement already satisfied: numpy>=1.21.2 in c:\\users\\rator\\anaconda3\\lib\\site-packages (from opencv-python) (1.24.3)\n",
      "Note: you may need to restart the kernel to use updated packages.\n"
     ]
    }
   ],
   "source": [
    "pip install opencv-python opencv-contrib-python\n"
   ]
  },
  {
   "cell_type": "code",
   "execution_count": 23,
   "id": "82b05928",
   "metadata": {},
   "outputs": [],
   "source": [
    "import cv2\n",
    "import numpy as np\n",
    "import csv\n",
    "\n",
    "# Function to convert a rotation matrix to Euler angles\n",
    "def rotationMatrixToEulerAngles(R):\n",
    "    sy = np.sqrt(R[0, 0] * R[0, 0] + R[1, 0] * R[1, 0])\n",
    "    singular = sy < 1e-6\n",
    "\n",
    "    if not singular:\n",
    "        x = np.arctan2(R[2, 1], R[2, 2])\n",
    "        y = np.arctan2(-R[2, 0], sy)\n",
    "        z = np.arctan2(R[1, 0], R[0, 0])\n",
    "    else:\n",
    "        x = np.arctan2(-R[1, 2], R[1, 1])\n",
    "        y = np.arctan2(-R[2, 0], sy)\n",
    "        z = 0\n",
    "\n",
    "    return np.degrees(x), np.degrees(y), np.degrees(z)\n",
    "\n"
   ]
  },
  {
   "cell_type": "code",
   "execution_count": null,
   "id": "129c1b6e",
   "metadata": {},
   "outputs": [],
   "source": [
    "# Load the baseline CSV data\n",
    "def load_baseline_csv(csv_file):\n",
    "    baseline_data = []\n",
    "    with open(csv_file, 'r') as file:\n",
    "        csv_reader = csv.reader(file)\n",
    "        next(csv_reader)  # Skip header row\n",
    "        for row in csv_reader:\n",
    "            frame_id = int(row[0])\n",
    "            qr_id = int(row[1])\n",
    "            qr_2d = eval(row[2])  # Convert string to list\n",
    "            qr_3d = eval(row[3])  # Convert string to list\n",
    "            baseline_data.append((frame_id, qr_id, qr_2d, qr_3d))\n",
    "    return baseline_data\n"
   ]
  },
  {
   "cell_type": "code",
   "execution_count": null,
   "id": "4667387a",
   "metadata": {},
   "outputs": [],
   "source": [
    "# Calculate movement commands based on current and target poses\n",
    "def calculate_movement_commands(current_pose, target_pose):\n",
    "    # Placeholder logic for calculating movement commands\n",
    "    commands = []\n",
    "    # Calculate differences in yaw, pitch, roll\n",
    "    yaw_diff = target_pose[1] - current_pose[0]\n",
    "    pitch_diff = target_pose[2] - current_pose[1]\n",
    "    roll_diff = target_pose[3] - current_pose[2]\n",
    "    # Generate movement commands based on differences\n",
    "    if yaw_diff > 5:\n",
    "        commands.append(\"turn-right\")\n",
    "    elif yaw_diff < -5:\n",
    "        commands.append(\"turn-left\")\n",
    "    if pitch_diff > 5:\n",
    "        commands.append(\"down\")\n",
    "    elif pitch_diff < -5:\n",
    "        commands.append(\"up\")\n",
    "    if roll_diff > 5:\n",
    "        commands.append(\"right\")\n",
    "    elif roll_diff < -5:\n",
    "        commands.append(\"left\")\n",
    "    return commands\n",
    "\n",
    "\n"
   ]
  },
  {
   "cell_type": "code",
   "execution_count": null,
   "id": "fd6c26f4",
   "metadata": {},
   "outputs": [],
   "source": [
    "# Main function for processing live video and generating commands\n",
    "def process_live_video(baseline_data):\n",
    "    # Initialize video capture\n",
    "    cap = cv2.VideoCapture(0)  # Use 0 for default webcam\n",
    "    \n",
    "    while cap.isOpened():\n",
    "        ret, frame = cap.read()\n",
    "        if not ret:\n",
    "            break\n",
    "        \n",
    "        # Detect ArUco markers in the frame\n",
    "        corners, ids, rejected = cv2.aruco.detectMarkers(frame, aruco_dict, parameters=parameters)\n",
    "        \n",
    "        if ids is not None:\n",
    "            for i in range(len(ids)):\n",
    "                id = ids[i][0]\n",
    "                # Find matching baseline data for the current frame\n",
    "                for baseline_entry in baseline_data:\n",
    "                    if baseline_entry[1] == id:  # Matching marker ID\n",
    "                        baseline_pose = baseline_entry[3]  # [distance, yaw, pitch, roll]\n",
    "                        \n",
    "                        # Estimate pose of the detected marker\n",
    "                        rvecs, tvecs, _ = cv2.aruco.estimatePoseSingleMarkers(corners[i], marker_length, camera_matrix, dist_coeffs)\n",
    "                        rvec = rvecs[0]\n",
    "                        R, _ = cv2.Rodrigues(rvec)\n",
    "                        current_pose = rotationMatrixToEulerAngles(R)  # [yaw, pitch, roll]\n",
    "                        \n",
    "                        # Calculate movement commands\n",
    "                        commands = calculate_movement_commands(current_pose, baseline_pose)\n",
    "                        \n",
    "                        # Print commands (replace with actual drone control)\n",
    "                        if commands:\n",
    "                            print(\"Movement Commands:\", commands)\n",
    "        \n",
    "        # Display the frame\n",
    "        cv2.imshow('Live Video', frame)\n",
    "        \n",
    "        # Check for user input to quit\n",
    "        if cv2.waitKey(1) & 0xFF == ord('q'):\n",
    "            break\n",
    "    \n",
    "    # Release video capture and close all windows\n",
    "    cap.release()\n",
    "    cv2.destroyAllWindows()\n"
   ]
  },
  {
   "cell_type": "code",
   "execution_count": null,
   "id": "f1a2f530",
   "metadata": {},
   "outputs": [],
   "source": [
    "if __name__ == '__main__':\n",
    "    # Load the ArUco dictionary\n",
    "    aruco_dict = cv2.aruco.getPredefinedDictionary(cv2.aruco.DICT_4X4_100)\n",
    "    # Create detector parameters\n",
    "    parameters = cv2.aruco.DetectorParameters()\n",
    "\n",
    "    # Load camera calibration data (replace with your actual values)\n",
    "    camera_matrix = np.array([[921.170702, 0.000000, 459.904354],\n",
    "                              [0.000000, 919.018377, 351.238301],\n",
    "                              [0.000000, 0.000000, 1.000000]])\n",
    "    dist_coeffs = np.array([-0.033458, 0.105152, 0.001256, -0.006647, 0.000000])\n",
    "\n",
    "    # Define the size of the ArUco marker in meters\n",
    "    marker_length = 0.14  # aruco marker size\n",
    "\n",
    "    # Load baseline CSV data\n",
    "    baseline_csv_file = 'output.csv'  # Replace with your baseline CSV filename\n",
    "    baseline_data = load_baseline_csv(baseline_csv_file)\n",
    "\n",
    "    # Process live video and generate movement commands\n",
    "    process_live_video(baseline_data)"
   ]
  }
 ],
 "metadata": {
  "kernelspec": {
   "display_name": "Python 3 (ipykernel)",
   "language": "python",
   "name": "python3"
  },
  "language_info": {
   "codemirror_mode": {
    "name": "ipython",
    "version": 3
   },
   "file_extension": ".py",
   "mimetype": "text/x-python",
   "name": "python",
   "nbconvert_exporter": "python",
   "pygments_lexer": "ipython3",
   "version": "3.11.5"
  }
 },
 "nbformat": 4,
 "nbformat_minor": 5
}
